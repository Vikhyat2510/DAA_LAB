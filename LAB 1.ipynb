{
 "cells": [
  {
   "cell_type": "code",
   "execution_count": 1,
   "id": "5d1e908f",
   "metadata": {},
   "outputs": [
    {
     "name": "stdout",
     "output_type": "stream",
     "text": [
      "Leaders in the array: [17, 5, 2]\n"
     ]
    }
   ],
   "source": [
    "#lab 1\n",
    "def find_leaders(arr):\n",
    "    n = len(arr)\n",
    "    leaders = []\n",
    "\n",
    "    \n",
    "    max_right = arr[n - 1]\n",
    "    leaders.append(max_right)\n",
    "\n",
    "  \n",
    "    for i in range(n - 2, -1, -1):\n",
    "        \n",
    "        if arr[i] >= max_right:\n",
    "            max_right = arr[i]\n",
    "            leaders.append(max_right)\n",
    "\n",
    "   \n",
    "    leaders.reverse()\n",
    "\n",
    "    return leaders\n",
    "arr = [16, 17, 4, 3, 5, 2]\n",
    "result = find_leaders(arr)\n",
    "print(\"Leaders in the array:\", result)"
   ]
  },
  {
   "cell_type": "code",
   "execution_count": 4,
   "id": "e1ebb66a",
   "metadata": {},
   "outputs": [
    {
     "name": "stdout",
     "output_type": "stream",
     "text": [
      "Input array: [1, 1, 2, 3, 3, 4, 5, 5, 5, 6, 9]\n",
      "Alternately sorted sequence: [9, 1, 6, 1, 5, 2, 5, 3, 5, 3, 4]\n"
     ]
    }
   ],
   "source": [
    "#lab 1\n",
    "def alternate_sort(arr):\n",
    "    \n",
    "    arr.sort()\n",
    "\n",
    "    left, right = 0, len(arr) - 1\n",
    "\n",
    "    result = []\n",
    "\n",
    "    while left <= right:\n",
    "        result.append(arr[right])\n",
    "        right -= 1\n",
    "\n",
    "        if left <= right:\n",
    "            result.append(arr[left])\n",
    "            left += 1\n",
    "\n",
    "    return result\n",
    "\n",
    "input_array = [3, 1, 4, 1, 5, 9, 2, 6, 5, 3, 5]\n",
    "output_sequence = alternate_sort(input_array)\n",
    "print(\"Input array:\", input_array)\n",
    "print(\"Alternately sorted sequence:\", output_sequence)"
   ]
  },
  {
   "cell_type": "code",
   "execution_count": null,
   "id": "48ede807",
   "metadata": {},
   "outputs": [],
   "source": []
  }
 ],
 "metadata": {
  "kernelspec": {
   "display_name": "Python 3 (ipykernel)",
   "language": "python",
   "name": "python3"
  },
  "language_info": {
   "codemirror_mode": {
    "name": "ipython",
    "version": 3
   },
   "file_extension": ".py",
   "mimetype": "text/x-python",
   "name": "python",
   "nbconvert_exporter": "python",
   "pygments_lexer": "ipython3",
   "version": "3.10.9"
  }
 },
 "nbformat": 4,
 "nbformat_minor": 5
}
