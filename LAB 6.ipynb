{
 "cells": [
  {
   "cell_type": "code",
   "execution_count": 1,
   "id": "401e8f84",
   "metadata": {},
   "outputs": [
    {
     "name": "stdout",
     "output_type": "stream",
     "text": [
      "Original Matrix:\n",
      "[3, 1, 4]\n",
      "[1, 5, 9]\n",
      "[2, 6, 5]\n",
      "\n",
      "Sorted Matrix with Diagonal Replacement:\n",
      "[0, 1, 0]\n",
      "[3, 0, 5]\n",
      "[0, 6, 0]\n"
     ]
    }
   ],
   "source": [
    "#lab 6\n",
    "def sort_matrix_and_replace_diagonals(matrix):\n",
    "    flattened_matrix = [element for row in matrix for element in row]\n",
    "\n",
    "    flattened_matrix.sort()\n",
    "\n",
    "    sorted_matrix = [flattened_matrix[i:i+len(matrix[0])] for i in range(0, len(flattened_matrix), len(matrix[0]))]\n",
    "\n",
    "    for i in range(len(matrix)):\n",
    "        sorted_matrix[i][i] = 0\n",
    "\n",
    "    for i in range(len(matrix)):\n",
    "        sorted_matrix[i][len(matrix) - 1 - i] = 0\n",
    "\n",
    "    return sorted_matrix\n",
    "\n",
    "matrix = [\n",
    "    [3, 1, 4],\n",
    "    [1, 5, 9],\n",
    "    [2, 6, 5]\n",
    "]\n",
    "\n",
    "sorted_and_replaced_matrix = sort_matrix_and_replace_diagonals(matrix)\n",
    "\n",
    "print(\"Original Matrix:\")\n",
    "for row in matrix:\n",
    "    print(row)\n",
    "\n",
    "print(\"\\nSorted Matrix with Diagonal Replacement:\")\n",
    "for row in sorted_and_replaced_matrix:\n",
    "    print(row)"
   ]
  },
  {
   "cell_type": "code",
   "execution_count": 2,
   "id": "cda4678d",
   "metadata": {},
   "outputs": [
    {
     "name": "stdout",
     "output_type": "stream",
     "text": [
      "The product of 5 and 4 is: 20\n"
     ]
    }
   ],
   "source": [
    "#lab 6\n",
    "def multiply(a, b):\n",
    "    result = 0\n",
    "\n",
    "    sign = 1\n",
    "    if a < 0:\n",
    "        a = -a\n",
    "        sign = -sign\n",
    "    if b < 0:\n",
    "        b = -b\n",
    "        sign = -sign\n",
    "\n",
    "    for _ in range(b):\n",
    "        result += a\n",
    "\n",
    "    result *= sign\n",
    "\n",
    "    return result\n",
    "\n",
    "\n",
    "num1 = 5\n",
    "num2 = 4\n",
    "result = multiply(num1, num2)\n",
    "\n",
    "print(f\"The product of {num1} and {num2} is: {result}\")"
   ]
  },
  {
   "cell_type": "code",
   "execution_count": null,
   "id": "9a63f931",
   "metadata": {},
   "outputs": [],
   "source": []
  }
 ],
 "metadata": {
  "kernelspec": {
   "display_name": "Python 3 (ipykernel)",
   "language": "python",
   "name": "python3"
  },
  "language_info": {
   "codemirror_mode": {
    "name": "ipython",
    "version": 3
   },
   "file_extension": ".py",
   "mimetype": "text/x-python",
   "name": "python",
   "nbconvert_exporter": "python",
   "pygments_lexer": "ipython3",
   "version": "3.10.9"
  }
 },
 "nbformat": 4,
 "nbformat_minor": 5
}
