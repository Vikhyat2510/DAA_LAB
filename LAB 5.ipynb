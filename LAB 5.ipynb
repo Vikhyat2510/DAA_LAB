{
 "cells": [
  {
   "cell_type": "code",
   "execution_count": 1,
   "id": "bdc1c0d0",
   "metadata": {},
   "outputs": [
    {
     "name": "stdout",
     "output_type": "stream",
     "text": [
      "Enter the number of rows: 3\n",
      "Enter the number of columns: 3\n",
      "Enter row (space-separated) 1: 1\n",
      "Enter row (space-separated) 2: 1\n",
      "Enter row (space-separated) 3: 1\n",
      "The row with the most ones is row 1.\n"
     ]
    }
   ],
   "source": [
    "#lab 5\n",
    "def find_row_with_most_ones(matrix):\n",
    "    max_ones_count = -1\n",
    "    row_with_most_ones = -1\n",
    "\n",
    "    for i, row in enumerate(matrix):\n",
    "        ones_count = row.count(1)\n",
    "        if ones_count > max_ones_count:\n",
    "            max_ones_count = ones_count\n",
    "            row_with_most_ones = i\n",
    "\n",
    "    return row_with_most_ones\n",
    "\n",
    "num_rows = int(input(\"Enter the number of rows: \"))\n",
    "num_columns = int(input(\"Enter the number of columns: \"))\n",
    "\n",
    "matrix = []\n",
    "for _ in range(num_rows):\n",
    "    row = list(map(int, input(f\"Enter row (space-separated) {_ + 1}: \").split()))\n",
    "    matrix.append(row)\n",
    "\n",
    "result_row = find_row_with_most_ones(matrix)\n",
    "\n",
    "if result_row != -1:\n",
    "    print(f\"The row with the most ones is row {result_row + 1}.\")\n",
    "else:\n",
    "    print(\"The matrix does not contain any ones.\")"
   ]
  },
  {
   "cell_type": "code",
   "execution_count": 2,
   "id": "c1ebbc49",
   "metadata": {},
   "outputs": [
    {
     "name": "stdout",
     "output_type": "stream",
     "text": [
      "Sum of the middle row: 15\n",
      "Sum of the middle column: 15\n"
     ]
    }
   ],
   "source": [
    "# lab 5\n",
    "def sum_middle_row_and_column(matrix):\n",
    "    num_rows = len(matrix)\n",
    "    num_columns = len(matrix[0]) if num_rows > 0 else 0\n",
    "\n",
    "    if num_rows % 2 == 1 and num_columns % 2 == 1:\n",
    "        middle_row = matrix[num_rows // 2]\n",
    "        middle_column = [matrix[i][num_columns // 2] for i in range(num_rows)]\n",
    "\n",
    "        sum_middle_row = sum(middle_row)\n",
    "        sum_middle_column = sum(middle_column)\n",
    "\n",
    "        return sum_middle_row, sum_middle_column\n",
    "    else:\n",
    "        return None  \n",
    "    \n",
    "matrix = [\n",
    "    [1, 2, 3],\n",
    "    [4, 5, 6],\n",
    "    [7, 8, 9]\n",
    "]\n",
    "\n",
    "result = sum_middle_row_and_column(matrix)\n",
    "\n",
    "if result is not None:\n",
    "    sum_middle_row, sum_middle_column = result\n",
    "    print(f\"Sum of the middle row: {sum_middle_row}\")\n",
    "    print(f\"Sum of the middle column: {sum_middle_column}\")\n",
    "else:\n",
    "    print(\"The matrix does not have a middle row and middle column.\")"
   ]
  },
  {
   "cell_type": "code",
   "execution_count": null,
   "id": "3e4fa17e",
   "metadata": {},
   "outputs": [],
   "source": []
  }
 ],
 "metadata": {
  "kernelspec": {
   "display_name": "Python 3 (ipykernel)",
   "language": "python",
   "name": "python3"
  },
  "language_info": {
   "codemirror_mode": {
    "name": "ipython",
    "version": 3
   },
   "file_extension": ".py",
   "mimetype": "text/x-python",
   "name": "python",
   "nbconvert_exporter": "python",
   "pygments_lexer": "ipython3",
   "version": "3.10.9"
  }
 },
 "nbformat": 4,
 "nbformat_minor": 5
}
