{
 "cells": [
  {
   "cell_type": "code",
   "execution_count": 1,
   "id": "728eb4a6",
   "metadata": {},
   "outputs": [
    {
     "name": "stdout",
     "output_type": "stream",
     "text": [
      "Original Matrix:\n",
      "[1, 2, 3]\n",
      "[4, 5, 6]\n",
      "[7, 8, 9]\n",
      "\n",
      "Matrix after Diagonal Interchange:\n",
      "[3, 2, 1]\n",
      "[4, 5, 6]\n",
      "[9, 8, 7]\n"
     ]
    }
   ],
   "source": [
    "#lab 4\n",
    "def interchange_diagonals(matrix):\n",
    "    n = len(matrix)\n",
    "\n",
    "    for i in range(n):\n",
    "        matrix[i][i], matrix[i][n - 1 - i] = matrix[i][n - 1 - i], matrix[i][i]\n",
    "\n",
    "matrix = [\n",
    "    [1, 2, 3],\n",
    "    [4, 5, 6],\n",
    "    [7, 8, 9]\n",
    "]\n",
    "\n",
    "print(\"Original Matrix:\")\n",
    "for row in matrix:\n",
    "    print(row)\n",
    "\n",
    "interchange_diagonals(matrix)\n",
    "\n",
    "print(\"\\nMatrix after Diagonal Interchange:\")\n",
    "for row in matrix:\n",
    "    print(row)"
   ]
  },
  {
   "cell_type": "code",
   "execution_count": 2,
   "id": "02ef56cf",
   "metadata": {},
   "outputs": [
    {
     "name": "stdout",
     "output_type": "stream",
     "text": [
      "The target number 4 is found at indices: [0, 4, 6]\n"
     ]
    }
   ],
   "source": [
    "#lab 4\n",
    "def find_indices(arr, target):\n",
    "    indices = []\n",
    "\n",
    "    for i, num in enumerate(arr):\n",
    "        if num == target:\n",
    "            indices.append(i)\n",
    "\n",
    "    return indices\n",
    "\n",
    "input_array = [4, 2, 7, 1, 4, 9, 4, 5]\n",
    "target_number = 4\n",
    "\n",
    "result_indices = find_indices(input_array, target_number)\n",
    "\n",
    "if result_indices:\n",
    "    print(f\"The target number {target_number} is found at indices: {result_indices}\")\n",
    "else:\n",
    "    print(f\"The target number {target_number} is not present in the array.\")"
   ]
  },
  {
   "cell_type": "code",
   "execution_count": null,
   "id": "b4d2dabf",
   "metadata": {},
   "outputs": [],
   "source": []
  }
 ],
 "metadata": {
  "kernelspec": {
   "display_name": "Python 3 (ipykernel)",
   "language": "python",
   "name": "python3"
  },
  "language_info": {
   "codemirror_mode": {
    "name": "ipython",
    "version": 3
   },
   "file_extension": ".py",
   "mimetype": "text/x-python",
   "name": "python",
   "nbconvert_exporter": "python",
   "pygments_lexer": "ipython3",
   "version": "3.10.9"
  }
 },
 "nbformat": 4,
 "nbformat_minor": 5
}
