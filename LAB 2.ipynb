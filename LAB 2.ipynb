{
 "cells": [
  {
   "cell_type": "code",
   "execution_count": 1,
   "id": "e46a8300",
   "metadata": {},
   "outputs": [
    {
     "name": "stdout",
     "output_type": "stream",
     "text": [
      "Triplets with sum 15: [[1, 6, 8], [2, 4, 9], [3, 4, 8]]\n"
     ]
    }
   ],
   "source": [
    "#lab 2\n",
    "def find_triplets_with_sum(arr, target_sum):\n",
    "    n = len(arr)\n",
    "    triplets = []\n",
    "\n",
    "    arr.sort()\n",
    "\n",
    "    for i in range(n - 2):\n",
    "        left = i + 1\n",
    "        right = n - 1\n",
    "\n",
    "        while left < right:\n",
    "            current_sum = arr[i] + arr[left] + arr[right]\n",
    "\n",
    "            if current_sum == target_sum:\n",
    "                triplets.append([arr[i], arr[left], arr[right]])\n",
    "                left += 1\n",
    "                right -= 1\n",
    "            elif current_sum < target_sum:\n",
    "                left += 1\n",
    "            else:\n",
    "                right -= 1\n",
    "\n",
    "    return triplets\n",
    "\n",
    "arr = [1, 4, 2, 8, 3, 9, 6]\n",
    "target_sum = 15\n",
    "result_triplets = find_triplets_with_sum(arr, target_sum)\n",
    "print(f\"Triplets with sum {target_sum}: {result_triplets}\")"
   ]
  },
  {
   "cell_type": "code",
   "execution_count": 2,
   "id": "f9bd9745",
   "metadata": {},
   "outputs": [
    {
     "name": "stdout",
     "output_type": "stream",
     "text": [
      "Input array: [0, 0, 1, 2, 0, 1, 2, 2, 1]\n",
      "Sorted array using counting sort: [0, 0, 0, 1, 1, 1, 2, 2, 2]\n"
     ]
    }
   ],
   "source": [
    "#lab 2\n",
    "def counting_sort(arr):\n",
    "    max_val = max(arr)\n",
    "\n",
    "    count = [0] * (max_val + 1)\n",
    "\n",
    "    for num in arr:\n",
    "        count[num] += 1\n",
    "\n",
    "    sorted_arr = []\n",
    "    for i in range(max_val + 1):\n",
    "        sorted_arr.extend([i] * count[i])\n",
    "\n",
    "    return sorted_arr\n",
    "\n",
    "input_array = [0, 0, 1, 2, 0, 1, 2, 2, 1]\n",
    "sorted_array = counting_sort(input_array)\n",
    "print(\"Input array:\", input_array)\n",
    "print(\"Sorted array using counting sort:\", sorted_array)"
   ]
  },
  {
   "cell_type": "code",
   "execution_count": null,
   "id": "d95d783d",
   "metadata": {},
   "outputs": [],
   "source": []
  }
 ],
 "metadata": {
  "kernelspec": {
   "display_name": "Python 3 (ipykernel)",
   "language": "python",
   "name": "python3"
  },
  "language_info": {
   "codemirror_mode": {
    "name": "ipython",
    "version": 3
   },
   "file_extension": ".py",
   "mimetype": "text/x-python",
   "name": "python",
   "nbconvert_exporter": "python",
   "pygments_lexer": "ipython3",
   "version": "3.10.9"
  }
 },
 "nbformat": 4,
 "nbformat_minor": 5
}
